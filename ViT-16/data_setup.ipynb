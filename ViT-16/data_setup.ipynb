{
 "cells": [
  {
   "cell_type": "code",
   "execution_count": 9,
   "id": "a1f99037-bfef-4e76-9378-01d66364dab8",
   "metadata": {},
   "outputs": [
    {
     "name": "stdout",
     "output_type": "stream",
     "text": [
      "Files already downloaded and verified\n",
      "Files already downloaded and verified\n"
     ]
    }
   ],
   "source": [
    "import os\n",
    "import torch\n",
    "import torchvision\n",
    "from torchvision import transforms , datasets\n",
    "from torch.utils.data import DataLoader\n",
    "\n",
    "BATCH_SIZE = 32\n",
    "NUM_WORKERS = os.cpu_count()\n",
    "\n",
    "#Set up data \n",
    "\n",
    "transform = torchvision.transforms.Compose([transforms.RandomResizedCrop(224 , scale = (0.9, 1.0) , ratio = (0.9 , 1.1)),\n",
    "                                           transforms.CenterCrop(224),\n",
    "                                           transforms.RandomHorizontalFlip(),\n",
    "                                           transforms.ToTensor(),\n",
    "                                           transforms.Normalize(mean = [0.486 , 0.456 , 0.406] , std = [0.229 , 0.224 , 0.225])])\n",
    "\n",
    "train_data = torchvision.datasets.CIFAR10(root = \"/datasets\", train = True , transform = transform , download = True)\n",
    "test_data = torchvision.datasets.CIFAR10(root = \"/datasets\" , train = False , transform = transform ,download = True)\n",
    "\n",
    "#Define dataloader functions\n",
    "\n",
    "def dataloaders(train_directory , test_directory , batch_size = BATCH_SIZE , num_workers = NUM_WORKERS):\n",
    "    train_dataloader = DataLoader(dataset = train_directory , batch_size = batch_size , num_workers = num_workers,\n",
    "                                 shuffle = True , pin_memory = True)\n",
    "    test_dataloader = DataLoader(dataset = test_directory , batch_size = batch_size , num_workers = num_workers,\n",
    "                                shuffle = False , pin_memory = True)\n",
    "    num_classes = train_directory.classes\n",
    "\n",
    "    return train_dataloader , test_dataloader , num_classes"
   ]
  }
 ],
 "metadata": {
  "kernelspec": {
   "display_name": "Python 3 (ipykernel)",
   "language": "python",
   "name": "python3"
  },
  "language_info": {
   "codemirror_mode": {
    "name": "ipython",
    "version": 3
   },
   "file_extension": ".py",
   "mimetype": "text/x-python",
   "name": "python",
   "nbconvert_exporter": "python",
   "pygments_lexer": "ipython3",
   "version": "3.10.8"
  }
 },
 "nbformat": 4,
 "nbformat_minor": 5
}
