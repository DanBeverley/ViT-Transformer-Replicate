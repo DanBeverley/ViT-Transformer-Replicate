{
 "cells": [
  {
   "cell_type": "code",
   "execution_count": null,
   "id": "36b3149a-62f1-46ee-897d-d032ae80c1bd",
   "metadata": {},
   "outputs": [],
   "source": [
    "%run data_setup.ipynb\n",
    "%run VisionTransformer.ipynb\n",
    "%run Train.ipynb\n",
    "\n",
    "train_dataloader , test_dataloader , num_class = dataloaders(train_data , test_data , batch_size = BATCH_SIZE,\n",
    "                                                              num_workers = NUM_WORKERS)\n",
    "\n",
    "#Set up parameters for training\n",
    "ViT_model = Vision_transformer(num_classes = len(num_class)).to(device)\n",
    "optimizer = torch.optim.Adam(params = ViT_model.parameters() , lr  = 1e-3)\n",
    "loss_fn = nn.CrossEntropyLoss()\n",
    "\n",
    "ViT_results = train(model = ViT_model ,train_dataloader = train_dataloader,\n",
    "                   test_dataloader = test_dataloader , loss_fn = loss_fn , optimizer = optimizer , \n",
    "                   epochs = 10 , device = device)"
   ]
  }
 ],
 "metadata": {
  "kernelspec": {
   "display_name": "Python 3 (ipykernel)",
   "language": "python",
   "name": "python3"
  },
  "language_info": {
   "codemirror_mode": {
    "name": "ipython",
    "version": 3
   },
   "file_extension": ".py",
   "mimetype": "text/x-python",
   "name": "python",
   "nbconvert_exporter": "python",
   "pygments_lexer": "ipython3",
   "version": "3.10.8"
  }
 },
 "nbformat": 4,
 "nbformat_minor": 5
}
